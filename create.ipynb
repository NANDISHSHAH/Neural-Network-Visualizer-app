Created a app called neural network visualiser Here will be getting a idea of fully development cycle of machine learning 
We will create a model
train and test 
creating web app using streamlit library by python highly used.
than will be creating a server using flask and deploying it also.
